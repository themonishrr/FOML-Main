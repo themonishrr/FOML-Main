{
  "nbformat": 4,
  "nbformat_minor": 0,
  "metadata": {
    "colab": {
      "provenance": []
    },
    "kernelspec": {
      "name": "python3",
      "display_name": "Python 3"
    },
    "language_info": {
      "name": "python"
    }
  },
  "cells": [
    {
      "cell_type": "code",
      "execution_count": 1,
      "metadata": {
        "id": "diIMlc2U34EN"
      },
      "outputs": [],
      "source": [
        "import numpy as np\n"
      ]
    },
    {
      "cell_type": "code",
      "source": [
        "# Step 1: Define the Sigmoid Activation Function and Its Derivative\n",
        "def sigmoid(x):\n",
        "    return 1 / (1 + np.exp(-x))\n",
        "\n",
        "def sigmoid_derivative(x):\n",
        "    return x * (1 - x)  # Using x instead of recomputing sigmoid(x)\n"
      ],
      "metadata": {
        "id": "PgbF9ucA4Qmj"
      },
      "execution_count": 2,
      "outputs": []
    },
    {
      "cell_type": "code",
      "source": [
        "# Step 2: Initialize Training Data\n",
        "X = np.array([[0, 0], [0, 1], [1, 1], [1, 0]])  # Input values\n",
        "y = np.array([[0], [0], [1], [0]])  # Expected outputs\n"
      ],
      "metadata": {
        "id": "pZDsazEf4VMw"
      },
      "execution_count": 3,
      "outputs": []
    },
    {
      "cell_type": "code",
      "source": [
        "# Step 3: Initialize Weights & Bias\n",
        "np.random.seed(0)  # Ensure reproducibility\n",
        "weights = np.random.rand(2, 1)  # Random values for weights\n",
        "bias = np.random.rand(1)  # Random value for bias\n"
      ],
      "metadata": {
        "id": "RytmlnGz4WpD"
      },
      "execution_count": 4,
      "outputs": []
    },
    {
      "cell_type": "code",
      "source": [
        "# Step 4: Set Learning Rate & Number of Epochs\n",
        "alpha = 0.05  # Learning rate\n",
        "epochs = 15000  # Number of iterations\n"
      ],
      "metadata": {
        "id": "oD1ZPogK4XzS"
      },
      "execution_count": 5,
      "outputs": []
    },
    {
      "cell_type": "code",
      "source": [
        "# Step 5: Training the Perceptron using Gradient Descent\n",
        "for _ in range(epochs):\n",
        "    # Forward Propagation\n",
        "    weighted_sum = np.dot(X, weights) + bias  # Compute weighted sum\n",
        "    y_pred = sigmoid(weighted_sum)  # Apply sigmoid activation\n",
        "\n",
        "    # Compute Error\n",
        "    error = y - y_pred\n",
        "    total_error = np.mean(np.square(error))  # Mean Squared Error\n",
        "\n",
        "    # Backpropagation\n",
        "    d_error = error * sigmoid_derivative(y_pred)  # Compute gradient\n",
        "    weights += alpha * np.dot(X.T, d_error)  # Update weights\n",
        "    bias += alpha * np.sum(d_error)  # Update bias\n"
      ],
      "metadata": {
        "id": "m_8UwuS64ZNB"
      },
      "execution_count": 6,
      "outputs": []
    },
    {
      "cell_type": "code",
      "source": [
        "# Step 6: Display Trained Weights & Bias\n",
        "print(\"Final Weights:\\n\", weights)\n",
        "print(\"Final Bias:\\n\", bias)\n"
      ],
      "metadata": {
        "colab": {
          "base_uri": "https://localhost:8080/"
        },
        "id": "vSJyx8SG4aR8",
        "outputId": "41e66a61-38b8-4fd8-eefb-cacfc8dd5809"
      },
      "execution_count": 7,
      "outputs": [
        {
          "output_type": "stream",
          "name": "stdout",
          "text": [
            "Final Weights:\n",
            " [[5.13823226]\n",
            " [5.13823228]]\n",
            "Final Bias:\n",
            " [-7.80170491]\n"
          ]
        }
      ]
    },
    {
      "cell_type": "code",
      "source": [
        "# Step 7: Testing the Perceptron with New Inputs\n",
        "def predict(inputs):\n",
        "    \"\"\"Predict output for given input using trained weights & bias.\"\"\"\n",
        "    result = sigmoid(np.dot(inputs, weights) + bias)\n",
        "    return result\n"
      ],
      "metadata": {
        "id": "QPn6FOQb4cN5"
      },
      "execution_count": 8,
      "outputs": []
    },
    {
      "cell_type": "code",
      "source": [
        "# Test Predictions\n",
        "test_cases = [[1, 0], [1, 1], [0, 0], [0, 1]]\n",
        "for test in test_cases:\n",
        "    print(f\"Input: {test} -> Prediction: {predict(np.array(test))}\")\n"
      ],
      "metadata": {
        "colab": {
          "base_uri": "https://localhost:8080/"
        },
        "id": "J0yzvYCU4flu",
        "outputId": "3bf1cadf-0e25-4b54-9d03-812ee7f8fcbf"
      },
      "execution_count": 9,
      "outputs": [
        {
          "output_type": "stream",
          "name": "stdout",
          "text": [
            "Input: [1, 0] -> Prediction: [0.06516347]\n",
            "Input: [1, 1] -> Prediction: [0.92235332]\n",
            "Input: [0, 0] -> Prediction: [0.00040887]\n",
            "Input: [0, 1] -> Prediction: [0.06516347]\n"
          ]
        }
      ]
    },
    {
      "cell_type": "code",
      "source": [],
      "metadata": {
        "id": "n0F_hx0W4g8h"
      },
      "execution_count": null,
      "outputs": []
    }
  ]
}