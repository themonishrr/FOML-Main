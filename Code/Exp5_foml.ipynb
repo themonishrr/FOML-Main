{
  "nbformat": 4,
  "nbformat_minor": 0,
  "metadata": {
    "colab": {
      "provenance": []
    },
    "kernelspec": {
      "name": "python3",
      "display_name": "Python 3"
    },
    "language_info": {
      "name": "python"
    }
  },
  "cells": [
    {
      "cell_type": "code",
      "execution_count": 1,
      "metadata": {
        "id": "hjy5FIGS55fN"
      },
      "outputs": [],
      "source": [
        "import pandas as pd\n",
        "import numpy as np\n",
        "from sklearn.model_selection import train_test_split\n",
        "from sklearn.neural_network import MLPClassifier\n",
        "from sklearn.metrics import classification_report, confusion_matrix\n"
      ]
    },
    {
      "cell_type": "code",
      "source": [
        "# Load dataset\n",
        "data = pd.read_csv('/content/BankNote_Authentication.csv')\n",
        "\n",
        "# Display dataset info\n",
        "print(\"Dataset Preview:\\n\", data.head(10))\n",
        "\n",
        "\n"
      ],
      "metadata": {
        "colab": {
          "base_uri": "https://localhost:8080/"
        },
        "id": "MFnDLcLG59bn",
        "outputId": "13fe59d3-8d1b-45e5-f350-89e80f8f96c9"
      },
      "execution_count": 5,
      "outputs": [
        {
          "output_type": "stream",
          "name": "stdout",
          "text": [
            "Dataset Preview:\n",
            "    variance  skewness  curtosis  entropy  class\n",
            "0   3.62160    8.6661  -2.80730 -0.44699      0\n",
            "1   4.54590    8.1674  -2.45860 -1.46210      0\n",
            "2   3.86600   -2.6383   1.92420  0.10645      0\n",
            "3   3.45660    9.5228  -4.01120 -3.59440      0\n",
            "4   0.32924   -4.4552   4.57180 -0.98880      0\n",
            "5   4.36840    9.6718  -3.96060 -3.16250      0\n",
            "6   3.59120    3.0129   0.72888  0.56421      0\n",
            "7   2.09220   -6.8100   8.46360 -0.60216      0\n",
            "8   3.20320    5.7588  -0.75345 -0.61251      0\n",
            "9   1.53560    9.1772  -2.27180 -0.73535      0\n"
          ]
        }
      ]
    },
    {
      "cell_type": "code",
      "source": [
        "print(\"\\nDataset Dimensions:\", data.shape)"
      ],
      "metadata": {
        "colab": {
          "base_uri": "https://localhost:8080/"
        },
        "id": "0udjGBW66FD5",
        "outputId": "536a49af-29bb-4aa6-c89b-7b138c650a72"
      },
      "execution_count": 3,
      "outputs": [
        {
          "output_type": "stream",
          "name": "stdout",
          "text": [
            "\n",
            "Dataset Dimensions: (1372, 5)\n"
          ]
        }
      ]
    },
    {
      "cell_type": "code",
      "source": [
        "print(\"\\nDescriptive Statistics:\\n\", data.describe())"
      ],
      "metadata": {
        "colab": {
          "base_uri": "https://localhost:8080/"
        },
        "id": "wQnhzPFc6HD1",
        "outputId": "c8ebf84b-cf1a-4f70-c07c-6de94f437173"
      },
      "execution_count": 4,
      "outputs": [
        {
          "output_type": "stream",
          "name": "stdout",
          "text": [
            "\n",
            "Descriptive Statistics:\n",
            "           variance     skewness     curtosis      entropy        class\n",
            "count  1372.000000  1372.000000  1372.000000  1372.000000  1372.000000\n",
            "mean      0.433735     1.922353     1.397627    -1.191657     0.444606\n",
            "std       2.842763     5.869047     4.310030     2.101013     0.497103\n",
            "min      -7.042100   -13.773100    -5.286100    -8.548200     0.000000\n",
            "25%      -1.773000    -1.708200    -1.574975    -2.413450     0.000000\n",
            "50%       0.496180     2.319650     0.616630    -0.586650     0.000000\n",
            "75%       2.821475     6.814625     3.179250     0.394810     1.000000\n",
            "max       6.824800    12.951600    17.927400     2.449500     1.000000\n"
          ]
        }
      ]
    },
    {
      "cell_type": "code",
      "source": [
        "# Split dataset into features and target\n",
        "X = data.drop(columns='class')\n",
        "y = data['class']\n"
      ],
      "metadata": {
        "id": "DCXXx5y76I6F"
      },
      "execution_count": 6,
      "outputs": []
    },
    {
      "cell_type": "code",
      "source": [
        "def train_and_evaluate(test_size):\n",
        "    print(f\"\\nTraining with test_size={test_size}...\\n\")\n",
        "\n",
        "    # Split dataset\n",
        "    X_train, X_test, y_train, y_test = train_test_split(X, y, test_size=test_size, random_state=42)\n",
        "\n",
        "    for activation in ['relu', 'logistic', 'tanh', 'identity']:\n",
        "        print(f\"\\nMLPClassifier with activation='{activation}':\")\n",
        "\n",
        "        # Train model\n",
        "        mlp = MLPClassifier(max_iter=500, activation=activation, random_state=42)\n",
        "        mlp.fit(X_train, y_train)\n",
        "\n",
        "        # Make predictions\n",
        "        y_pred = mlp.predict(X_test)\n",
        "\n",
        "        # Display results\n",
        "        print(\"Confusion Matrix:\\n\", confusion_matrix(y_test, y_pred))\n",
        "        print(\"\\nClassification Report:\\n\", classification_report(y_test, y_pred))\n"
      ],
      "metadata": {
        "id": "hZolRcLM6MBg"
      },
      "execution_count": 7,
      "outputs": []
    },
    {
      "cell_type": "code",
      "source": [
        "# Run training with different train-test splits\n",
        "train_and_evaluate(test_size=0.2)\n"
      ],
      "metadata": {
        "colab": {
          "base_uri": "https://localhost:8080/"
        },
        "id": "Ef542xtz6NC6",
        "outputId": "db78a0ea-48e8-4ded-c522-f5fd5121e698"
      },
      "execution_count": 9,
      "outputs": [
        {
          "output_type": "stream",
          "name": "stdout",
          "text": [
            "\n",
            "Training with test_size=0.2...\n",
            "\n",
            "\n",
            "MLPClassifier with activation='relu':\n",
            "Confusion Matrix:\n",
            " [[148   0]\n",
            " [  0 127]]\n",
            "\n",
            "Classification Report:\n",
            "               precision    recall  f1-score   support\n",
            "\n",
            "           0       1.00      1.00      1.00       148\n",
            "           1       1.00      1.00      1.00       127\n",
            "\n",
            "    accuracy                           1.00       275\n",
            "   macro avg       1.00      1.00      1.00       275\n",
            "weighted avg       1.00      1.00      1.00       275\n",
            "\n",
            "\n",
            "MLPClassifier with activation='logistic':\n",
            "Confusion Matrix:\n",
            " [[148   0]\n",
            " [  1 126]]\n",
            "\n",
            "Classification Report:\n",
            "               precision    recall  f1-score   support\n",
            "\n",
            "           0       0.99      1.00      1.00       148\n",
            "           1       1.00      0.99      1.00       127\n",
            "\n",
            "    accuracy                           1.00       275\n",
            "   macro avg       1.00      1.00      1.00       275\n",
            "weighted avg       1.00      1.00      1.00       275\n",
            "\n",
            "\n",
            "MLPClassifier with activation='tanh':\n",
            "Confusion Matrix:\n",
            " [[148   0]\n",
            " [  0 127]]\n",
            "\n",
            "Classification Report:\n",
            "               precision    recall  f1-score   support\n",
            "\n",
            "           0       1.00      1.00      1.00       148\n",
            "           1       1.00      1.00      1.00       127\n",
            "\n",
            "    accuracy                           1.00       275\n",
            "   macro avg       1.00      1.00      1.00       275\n",
            "weighted avg       1.00      1.00      1.00       275\n",
            "\n",
            "\n",
            "MLPClassifier with activation='identity':\n",
            "Confusion Matrix:\n",
            " [[146   2]\n",
            " [  2 125]]\n",
            "\n",
            "Classification Report:\n",
            "               precision    recall  f1-score   support\n",
            "\n",
            "           0       0.99      0.99      0.99       148\n",
            "           1       0.98      0.98      0.98       127\n",
            "\n",
            "    accuracy                           0.99       275\n",
            "   macro avg       0.99      0.99      0.99       275\n",
            "weighted avg       0.99      0.99      0.99       275\n",
            "\n"
          ]
        }
      ]
    },
    {
      "cell_type": "code",
      "source": [
        "train_and_evaluate(test_size=0.3)\n"
      ],
      "metadata": {
        "colab": {
          "base_uri": "https://localhost:8080/"
        },
        "id": "M-0XMlm26OR9",
        "outputId": "d7b14acf-d7f6-4b1b-a509-1b0e84d3032a"
      },
      "execution_count": 10,
      "outputs": [
        {
          "output_type": "stream",
          "name": "stdout",
          "text": [
            "\n",
            "Training with test_size=0.3...\n",
            "\n",
            "\n",
            "MLPClassifier with activation='relu':\n",
            "Confusion Matrix:\n",
            " [[229   0]\n",
            " [  0 183]]\n",
            "\n",
            "Classification Report:\n",
            "               precision    recall  f1-score   support\n",
            "\n",
            "           0       1.00      1.00      1.00       229\n",
            "           1       1.00      1.00      1.00       183\n",
            "\n",
            "    accuracy                           1.00       412\n",
            "   macro avg       1.00      1.00      1.00       412\n",
            "weighted avg       1.00      1.00      1.00       412\n",
            "\n",
            "\n",
            "MLPClassifier with activation='logistic':\n",
            "Confusion Matrix:\n",
            " [[229   0]\n",
            " [  1 182]]\n",
            "\n",
            "Classification Report:\n",
            "               precision    recall  f1-score   support\n",
            "\n",
            "           0       1.00      1.00      1.00       229\n",
            "           1       1.00      0.99      1.00       183\n",
            "\n",
            "    accuracy                           1.00       412\n",
            "   macro avg       1.00      1.00      1.00       412\n",
            "weighted avg       1.00      1.00      1.00       412\n",
            "\n",
            "\n",
            "MLPClassifier with activation='tanh':\n",
            "Confusion Matrix:\n",
            " [[229   0]\n",
            " [  0 183]]\n",
            "\n",
            "Classification Report:\n",
            "               precision    recall  f1-score   support\n",
            "\n",
            "           0       1.00      1.00      1.00       229\n",
            "           1       1.00      1.00      1.00       183\n",
            "\n",
            "    accuracy                           1.00       412\n",
            "   macro avg       1.00      1.00      1.00       412\n",
            "weighted avg       1.00      1.00      1.00       412\n",
            "\n",
            "\n",
            "MLPClassifier with activation='identity':\n",
            "Confusion Matrix:\n",
            " [[226   3]\n",
            " [  2 181]]\n",
            "\n",
            "Classification Report:\n",
            "               precision    recall  f1-score   support\n",
            "\n",
            "           0       0.99      0.99      0.99       229\n",
            "           1       0.98      0.99      0.99       183\n",
            "\n",
            "    accuracy                           0.99       412\n",
            "   macro avg       0.99      0.99      0.99       412\n",
            "weighted avg       0.99      0.99      0.99       412\n",
            "\n"
          ]
        }
      ]
    },
    {
      "cell_type": "code",
      "source": [],
      "metadata": {
        "id": "JGOhInee6bXD"
      },
      "execution_count": null,
      "outputs": []
    }
  ]
}